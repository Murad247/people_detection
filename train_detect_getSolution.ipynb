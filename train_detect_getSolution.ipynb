{
 "cells": [
  {
   "cell_type": "markdown",
   "id": "65fc93b8",
   "metadata": {},
   "source": [
    " ### Клонирование репозитория YOLOv7 и установка предварительно обученной модели (от разработчика YOLOv7)\n"
   ]
  },
  {
   "cell_type": "code",
   "execution_count": null,
   "id": "d6f7ca94",
   "metadata": {},
   "outputs": [],
   "source": [
    "!git clone https://github.com/WongKinYiu/yolov7.git\n",
    "!wget 'https://github.com/WongKinYiu/yolov7/releases/download/v0.1/yolov7-e6e_training.pt' -O yolov7-e6e_training.pt --fuzzy"
   ]
  },
  {
   "cell_type": "markdown",
   "id": "b71ec103",
   "metadata": {},
   "source": [
    "# Шаг 1 - предварительное обучение на расширенном наборе (Okutama-Action)\n",
    "### Установка готовой версии набора (5.5 ГБ)"
   ]
  },
  {
   "cell_type": "code",
   "execution_count": null,
   "id": "a6fc3a55",
   "metadata": {},
   "outputs": [],
   "source": [
    "!wget 'https://downloader.disk.yandex.ru/disk/f24ff239f6466c56ff13f4d667822144f209a2d0465e11610c0a425b4aa16a2d/636d82ed/_ah9MjiPXrIm4fxxD9Ws4J34RI1icUbSBi5hNDyDvDC-OXjCSyxs3RhSKfg_M6VUsEpY79dMn0c5wNkdGe3j-w%3D%3D?uid=0&filename=step_1.zip&disposition=attachment&hash=sl9zGDVuNJK8fNXN9oTS3PPj%2B1w7SStA9v9dHLPzImV9taVwgr1Lf/fNDOujIT1bq/J6bpmRyOJonT3VoXnDag%3D%3D&limit=0&content_type=application%2Fzip&owner_uid=674100834&fsize=5865785471&hid=6e9000707fa0dd24ef46e343b8f176b1&media_type=compressed&tknv=v2' -O step_1 --fuzzy\n",
    "!unzip step_1"
   ]
  },
  {
   "cell_type": "markdown",
   "id": "bbf6e85d",
   "metadata": {},
   "source": [
    "Перед запуском следующей ячейки измените количество классов в конфигурационном файле yolov7/cfg/training/yolov7-e6e.yaml с 80 на 1"
   ]
  },
  {
   "cell_type": "code",
   "execution_count": null,
   "id": "f49d9eae",
   "metadata": {},
   "outputs": [],
   "source": [
    "!python yolov7/train_aux.py --workers 8 --device 0 --batch-size 4 --data step_1/dataset.yaml --img 1280 1280 --epochs 300 --cfg yolov7/cfg/training/yolov7-e6e.yaml --weights 'yolov7-e6e_training.pt' --name yolov7-e6e-custom"
   ]
  },
  {
   "cell_type": "markdown",
   "id": "8c4bc181",
   "metadata": {},
   "source": [
    "Я остановил обучение на пятой эпохе. Одна эпоха на RTX 3090 длится примерно 4 часа"
   ]
  },
  {
   "cell_type": "markdown",
   "id": "5a4807b6",
   "metadata": {},
   "source": [
    "# Шаг 2 - дообучение на предоставленном наборе\n",
    "### Установка готовой версии набора (0.53 ГБ)"
   ]
  },
  {
   "cell_type": "code",
   "execution_count": null,
   "id": "15dcb293",
   "metadata": {},
   "outputs": [],
   "source": [
    "!wget 'https://downloader.disk.yandex.ru/disk/a25881993dd98d597305aff26df876dfc3da198da523c88a3c4af3238eea08ad/636d8301/_ah9MjiPXrIm4fxxD9Ws4McmYgRq9RIocNHApMIwnR5mRPOlqylXvriElo1rqnuHPTFZHvk7sxZT2I5gG2k9EA%3D%3D?uid=0&filename=step_2.zip&disposition=attachment&hash=oStemeDSXDiD0iPEsfYMkPMwv5jwVBE1q3yvkrKTci2Ctr7kZioVLuw2rvD/Q87/q/J6bpmRyOJonT3VoXnDag%3D%3D&limit=0&content_type=application%2Fzip&owner_uid=674100834&fsize=557209045&hid=ecad0d2ae78d5bbe7ba6bbfd79694654&media_type=compressed&tknv=v2' -O step_2 --fuzzy\n",
    "!unzip step_2"
   ]
  },
  {
   "cell_type": "code",
   "execution_count": null,
   "id": "6f4517ac",
   "metadata": {},
   "outputs": [],
   "source": [
    "!python yolov7/train_aux.py --workers 8 --device 0 --batch-size 4 --data step_2/dataset.yaml --img 1280 1280 --epochs 300 --cfg yolov7/cfg/training/yolov7-e6e.yaml --weights 'runs/train/yolov7-e6e-custom/weights/best.pt' --name yolov7"
   ]
  },
  {
   "cell_type": "markdown",
   "id": "49711a23",
   "metadata": {},
   "source": [
    "# Шаг 3 - получение предсказаний\n",
    "### Установите тестовый набор (если его нет)"
   ]
  },
  {
   "cell_type": "code",
   "execution_count": null,
   "id": "aea710dc",
   "metadata": {},
   "outputs": [],
   "source": [
    "!wget 'https://downloader.disk.yandex.ru/disk/d9b0e72388067c4d4842c4ae059001980be5b764592470073902ed3acdae2b66/636d81aa/_ah9MjiPXrIm4fxxD9Ws4JDMdRDqk4uoxSejVILlTZf8z0h0me1BLOx433njnIy2WAFpopifUSgkkMOh0N2rkw%3D%3D?uid=0&filename=test.zip&disposition=attachment&hash=V2nHb8SSCIl172zdlXnQCpQVSm6r54qoSkGrf%2BCVcgTvL99rj84tk9FTiES0AMVHq/J6bpmRyOJonT3VoXnDag%3D%3D&limit=0&content_type=application%2Fzip&owner_uid=674100834&fsize=2173743880&hid=291a12ba9ea5ae9f8c997fcb2eae7269&media_type=compressed&tknv=v2' -O test --fuzzy\n",
    "!unzip test"
   ]
  },
  {
   "cell_type": "markdown",
   "id": "6e8ac97b",
   "metadata": {},
   "source": [
    "Скачивание моей модели"
   ]
  },
  {
   "cell_type": "code",
   "execution_count": null,
   "id": "fe250e3b",
   "metadata": {},
   "outputs": [],
   "source": [
    "!wget https://downloader.disk.yandex.ru/disk/b90209decad6b1382ea46f2642e84d363908abfce1bc2da5cc95cf5d2112c7c5/636d821e/_ah9MjiPXrIm4fxxD9Ws4LDKDpPDig1k38bQ2Xn-jvcaJ7PuHSlCTTZPezONuBb3uqnFMLk_9tLnF3cguAYQdg%3D%3D?uid=0&filename=best.pt&disposition=attachment&hash=4GDpxAuoKJs1WD09BXFHdY7y2N5ZI/4t0vqJHdj3MF6Le3cN8yS60zR37/5/lkoHq/J6bpmRyOJonT3VoXnDag%3D%3D&limit=0&content_type=application%2Fzip&owner_uid=674100834&fsize=330955063&hid=0dcc08e758be22ef1952405768bdee81&media_type=compressed&tknv=v2 -O best.pt --fuzzy"
   ]
  },
  {
   "cell_type": "markdown",
   "id": "a8786423",
   "metadata": {},
   "source": [
    "Если хотите проверить свою модель, измените значение параметра weights на 'runs/train/yolov7/weights/best.pt'"
   ]
  },
  {
   "cell_type": "code",
   "execution_count": null,
   "id": "99c51a6b",
   "metadata": {},
   "outputs": [],
   "source": [
    "!python yolov7/detect.py --img-size 1280 --weights best.pt --source test --save-txt --save-conf --conf-thres 0.25 --iou-thres 0.45"
   ]
  },
  {
   "cell_type": "markdown",
   "id": "21d32c98",
   "metadata": {},
   "source": [
    "# Шаг 4 - подготовка решения\n",
    "Лучший результат на паблике - 0.647308"
   ]
  },
  {
   "cell_type": "code",
   "execution_count": 1,
   "id": "4db76258",
   "metadata": {
    "code_folding": []
   },
   "outputs": [],
   "source": [
    "import os\n",
    "import shutil\n",
    "import pandas as pd\n",
    "import cv2\n",
    "import random\n",
    "import numpy as np\n",
    "from tqdm import tqdm\n",
    "import json\n",
    "\n",
    "\n",
    "def get_soliton_labels_df_simple_solution(path_to_img_folder):\n",
    "    simple_solution = []\n",
    "    names = os.listdir(path_to_img_folder)[:-1]\n",
    "    names2 = sorted([int(i.split('.')[0]) for i in names])\n",
    "    names = [str(i)+'.JPG' for i in names2]\n",
    "    img_names = [name for name in os.listdir(r'F:\\omsk\\test\\test') if name[-1]!='e']\n",
    "    for i in range(len(names)):\n",
    "        if not names[i] in img_names:\n",
    "            names[i] = names[i].lower()\n",
    "    for detection_file in tqdm(names[:]):\n",
    "        image = cv2.imread(path_to_img_folder + detection_file)\n",
    "        size = image.shape[:2]\n",
    "        txt_file = detection_file.split('.')[0] + '.txt'\n",
    "        if os.path.isfile(path_to_img_folder + 'labels/' + txt_file):\n",
    "            with open(path_to_img_folder + 'labels/' + txt_file, 'r') as f:\n",
    "                data = f.read()\n",
    "                data = [i for i in data.split('\\n') if i != '']\n",
    "        else:\n",
    "            data = []\n",
    "        dicts = []\n",
    "        data.reverse()\n",
    "        confids = []\n",
    "        for line in data:\n",
    "            val = [float(i) for i in line.split()]\n",
    "            cls, xywh, conf = int(val[0]), val[1:5], val[5]\n",
    "            confids.append(conf)\n",
    "            center_x, center_y, width, height = xywh\n",
    "            radius = min([width, height]) * 1.05\n",
    "\n",
    "            cx = int(center_x * size[1])\n",
    "            cy = int(center_y * size[0])\n",
    "            r  = int(radius * size[1])\n",
    "            region_shape = f'{{\"cx\":{cx},\"cy\":{cy},\"r\":{r}}}'\n",
    "            \n",
    "            if conf > 0.3:\n",
    "                dicts.append(region_shape)\n",
    "\n",
    "        if len(confids) > 0:\n",
    "            if max(confids) < 0.6:\n",
    "                dicts = []\n",
    "                data = []\n",
    "\n",
    "        if dicts == []:\n",
    "            count_region = 0\n",
    "        else:\n",
    "            count_region = len(data)\n",
    "        if count_region > 0 and dicts != []:\n",
    "            simple_solution.append([detection_file, dicts])\n",
    "        else:\n",
    "            simple_solution.append([detection_file, 0])\n",
    "    return simple_solution"
   ]
  },
  {
   "cell_type": "code",
   "execution_count": 2,
   "id": "5fc821d0",
   "metadata": {},
   "outputs": [
    {
     "name": "stderr",
     "output_type": "stream",
     "text": [
      "100%|██████████████████████████████████████████████████████████████████████████████| 3435/3435 [00:46<00:00, 73.26it/s]\n"
     ]
    }
   ],
   "source": [
    "simple_solution = get_soliton_labels_df_simple_solution('runs/detect/exp/')\n",
    "simple_solution = pd.DataFrame(simple_solution, columns=['ID_img', 'region_shape'])"
   ]
  },
  {
   "cell_type": "code",
   "execution_count": 3,
   "id": "2dcba34a",
   "metadata": {},
   "outputs": [],
   "source": [
    "simple_solution.to_csv(\"predictions.csv\", index=False)"
   ]
  },
  {
   "cell_type": "code",
   "execution_count": null,
   "id": "0beaf577",
   "metadata": {},
   "outputs": [],
   "source": []
  }
 ],
 "metadata": {
  "hide_input": false,
  "kernelspec": {
   "display_name": "Python 3 (ipykernel)",
   "language": "python",
   "name": "python3"
  },
  "language_info": {
   "codemirror_mode": {
    "name": "ipython",
    "version": 3
   },
   "file_extension": ".py",
   "mimetype": "text/x-python",
   "name": "python",
   "nbconvert_exporter": "python",
   "pygments_lexer": "ipython3",
   "version": "3.8.13"
  }
 },
 "nbformat": 4,
 "nbformat_minor": 5
}
